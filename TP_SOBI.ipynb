{
 "cells": [
  {
   "cell_type": "markdown",
   "metadata": {},
   "source": [
    "#  Algorithme de séparation de sources basé sur les statistiques du second ordre"
   ]
  },
  {
   "cell_type": "markdown",
   "metadata": {},
   "source": [
    "* *Correlation Matrix*"
   ]
  },
  {
   "cell_type": "code",
   "execution_count": 1,
   "metadata": {},
   "outputs": [],
   "source": [
    "# Compute an estimation of the inter-correlation\n",
    "def correlation(x, y):\n",
    "    \"\"\"\n",
    "    Function to estimate the inter-correlation matrix\n",
    "    \n",
    "    inputs:\n",
    "        x (Numpy array)\n",
    "        y (Numpy array) \n",
    "    \n",
    "    return:\n",
    "        r (Numpy array)\n",
    "    \"\"\"\n",
    "    # Vectors dimensions\n",
    "    N, m = x.shape[0], x.shape[1]\n",
    "    \n",
    "    # Inter-correlation matrix initialization\n",
    "    r = np.zeros((m, m))\n",
    "    \n",
    "    # Compute the intercorrelation\n",
    "    for i in range(N):\n",
    "        r += np.outer(x[i,:], y[i,:])  # Update the intercorrelation matrix\n",
    "    r = r / N  # Normlization according to the number of windows\n",
    "    \n",
    "    return r"
   ]
  },
  {
   "cell_type": "markdown",
   "metadata": {},
   "source": [
    "* *Off function*"
   ]
  },
  {
   "cell_type": "code",
   "execution_count": 2,
   "metadata": {},
   "outputs": [],
   "source": [
    "# Function Off\n",
    "def off(M):\n",
    "    \"\"\"\n",
    "    Function that implements the off function\n",
    "    \n",
    "    inputs:\n",
    "        M (Numpy Array)\n",
    "        \n",
    "    returns:\n",
    "        Off (float)\n",
    "    \"\"\"\n",
    "    \n",
    "    # Number of windows\n",
    "    N = M.shape[0]\n",
    "    \n",
    "    # Off value\n",
    "    Off = (np.sum(M) - np.trace(M)) / (N * (N - 1))\n",
    "    \n",
    "    return Off"
   ]
  },
  {
   "cell_type": "markdown",
   "metadata": {},
   "source": [
    "* *Trace Function*"
   ]
  },
  {
   "cell_type": "code",
   "execution_count": 3,
   "metadata": {},
   "outputs": [],
   "source": [
    "# Function Trace\n",
    "def tr(M):\n",
    "    \"\"\"\n",
    "    Function to compute normalized trace\n",
    "    \n",
    "    inputs:\n",
    "        M (Numpy array)\n",
    "        \n",
    "    returns:\n",
    "        trace (float)\n",
    "    \"\"\"\n",
    "    \n",
    "    # Normalized trace\n",
    "    trace = np.trace(M) / M.shape[0]\n",
    "    \n",
    "    return trace"
   ]
  },
  {
   "cell_type": "markdown",
   "metadata": {},
   "source": [
    "* *EQMN function*"
   ]
  },
  {
   "cell_type": "code",
   "execution_count": 4,
   "metadata": {},
   "outputs": [],
   "source": [
    "def quadratic_error(s, ref):\n",
    "    \"\"\"\n",
    "    Function to compute the normalized quadratic mean error.\n",
    "    \n",
    "    inputs:\n",
    "        s    (Numpy array)\n",
    "        ref  (Numpy array)\n",
    "        \n",
    "    returns:\n",
    "        eqmn (float)\n",
    "    \"\"\"\n",
    "    \n",
    "    # EQMN\n",
    "    eqmn = 1 - (np.inner(ref,s) / (np.linalg.norm(ref) * np.linalg.norm(s)))**2\n",
    "    \n",
    "    return eqmn"
   ]
  },
  {
   "cell_type": "markdown",
   "metadata": {},
   "source": [
    "* *SOBI Algorithm*"
   ]
  },
  {
   "cell_type": "code",
   "execution_count": 10,
   "metadata": {},
   "outputs": [],
   "source": [
    "def sobi(x, window_size):\n",
    "    \"\"\"\n",
    "    Function that implements SOBI algorithm\n",
    "    \n",
    "    inputs:\n",
    "        x           (Numpy array) --  observations vector\n",
    "        window_size (float)       --  parameter to compute the intercorrelation\n",
    "    \n",
    "    returns:\n",
    "        s_sobi (Numpy array)      --  sources vector\n",
    "    \"\"\"\n",
    "    \n",
    "    # Retrieve observations\n",
    "    x1, x2 = x[0,:], x[1,:]\n",
    "    \n",
    "    # Modify x dimensions\n",
    "    m = x1.shape[0]\n",
    "    N = int(m/window_size)\n",
    "    x1_r, x2_r = x1.reshape((N,window_size)), x2.reshape((N,window_size))\n",
    "\n",
    "    # Compute intercorrelation matrices\n",
    "    r11, r22, r12 = correlation(x1_r,x1_r), correlation(x2_r,x2_r), correlation(x1_r,x2_r)\n",
    "\n",
    "    # Compute SOBI parameters\n",
    "    T1, T2, T12 = tr(r11), tr(r22), tr(r12)\n",
    "    F1, F2, F12 = off(r11), off(r22), off(r12)\n",
    "    \n",
    "    alpha = 2 * F12 * T12 - F1 * T2 - F2 * T1\n",
    "    beta = 2 * (T12**2 - T1 * T2)\n",
    "    gamma = np.sqrt((F1*T2-F2*T1)**2+4*(F12*T2-T12*F2)*(F12*T1-T12*F1))\n",
    "    d1 = alpha - gamma\n",
    "    d2 = alpha + gamma\n",
    "\n",
    "    # Estimate mixing matrix elements\n",
    "    a11 = beta*off(r11)-tr(r11)*d1\n",
    "    a12 = beta*off(r12)-tr(r12)*d2\n",
    "    a21 = beta*off(r12)-tr(r12)*d1\n",
    "    a22 = beta*off(r22)-tr(r22)*d2\n",
    "    A = np.array([[a11,a12],[a21,a22]])\n",
    "    \n",
    "    # Estimate sources\n",
    "    w_sobi = np.linalg.inv(A)\n",
    "    w_sobi = w_sobi / np.linalg.norm(w_sobi)\n",
    "    s_sobi = w_sobi @ x\n",
    "\n",
    "    return s_sobi"
   ]
  },
  {
   "cell_type": "markdown",
   "metadata": {},
   "source": [
    "* *SOBI Algorithm*"
   ]
  },
  {
   "cell_type": "code",
   "execution_count": 11,
   "metadata": {},
   "outputs": [
    {
     "name": "stdout",
     "output_type": "stream",
     "text": [
      "[[ 1.33060902e-06  4.35468224e-06]\n",
      " [ 2.37714099e-06 -3.89148471e-06]]\n",
      "L'erreur quadratique moyenne pour l'estimation de s1: -84.068552  db\n",
      "L'erreur quadratique moyenne pour l'estimation de s2: -84.068551  db\n"
     ]
    }
   ],
   "source": [
    "# *************************\n",
    "#    Main\n",
    "# *************************\n",
    "\n",
    "# Numpy\n",
    "import numpy as np\n",
    "\n",
    "# Importer les signaux observés et les signaux de référence\n",
    "x_1  = np.fromfile(\"files/In_1.txt\", dtype=np.float64)\n",
    "x_2  = np.fromfile(\"files/In_2.txt\", dtype=np.float64)\n",
    "ref1 = np.fromfile(\"files/Ref_1.txt\", dtype=np.float64)\n",
    "ref2 = np.fromfile(\"files/Ref_2.txt\", dtype=np.float64)\n",
    "\n",
    "# Mettre les signaux x1 et x2 dans un seul vecteur\n",
    "x = np.array([x_1, x_2])\n",
    "\n",
    "# Définir la taille de fenêtre\n",
    "window_size = 12\n",
    "\n",
    "# Estimer les signaux de référence\n",
    "s_sobi = sobi(x, window_size)\n",
    "\n",
    "# Evaluation de l'algorithme\n",
    "err_1 = quadratic_error(s_sobi[0,:], ref1)\n",
    "err_2 = quadratic_error(s_sobi[1,:], ref2)\n",
    "err_1_db = 10*np.log(err_1)/np.log(10)\n",
    "err_2_db = 10*np.log(err_2)/np.log(10)\n",
    "print(\"L'erreur quadratique moyenne pour l'estimation de s1: %f  db\" %err_1_db)\n",
    "print(\"L'erreur quadratique moyenne pour l'estimation de s2: %f  db\" %err_2_db)"
   ]
  },
  {
   "cell_type": "markdown",
   "metadata": {},
   "source": [
    "* *Window size Optimization*"
   ]
  },
  {
   "cell_type": "code",
   "execution_count": 7,
   "metadata": {},
   "outputs": [],
   "source": [
    "# Compute EQMN for different values of window sizes\n",
    "# -------------------------------------------------\n",
    "\n",
    "window_sizes = [2, 3, 4, 5, 6, 7, 9, 10, 12, 14, 20]\n",
    "errors_1 = []\n",
    "errors_2 = []\n",
    "for window_size in window_sizes:\n",
    "    # Estimer les signaux de référence\n",
    "    s_sobi = sobi(x, window_size)\n",
    "\n",
    "    # Evaluation de l'algorithme\n",
    "    errors_1.append(quadratic_error(s_sobi[0,:], ref1))\n",
    "    errors_2.append(quadratic_error(s_sobi[1,:], ref2))"
   ]
  },
  {
   "cell_type": "code",
   "execution_count": 8,
   "metadata": {},
   "outputs": [],
   "source": [
    "# Plot EQMN as function of window_size\n",
    "# ------------------------------------\n",
    "\n",
    "# import bokeh package\n",
    "from bokeh.plotting import figure, show, output_notebook\n",
    "\n",
    "# initialize figure\n",
    "p = figure(plot_width=1300, plot_height=600)\n",
    "\n",
    "# Scatter random realisations\n",
    "p.line(window_sizes, 10*np.log(errors_1)/np.log(10), line_width=2)\n",
    "p.line(window_sizes, 10*np.log(errors_2)/np.log(10), line_width=2)\n",
    "\n",
    "# Définir le style de p\n",
    "p.xaxis.axis_label = \"Window Sizes\"\n",
    "p.yaxis.axis_label = \"EQMN (dB)\"\n",
    "\n",
    "# Afficher le graphique p\n",
    "show(p)"
   ]
  },
  {
   "cell_type": "code",
   "execution_count": 9,
   "metadata": {},
   "outputs": [],
   "source": [
    "# Plot sources and their estimation for optimal value of window_size\n",
    "# ------------------------------------------------------------------\n",
    "\n",
    "# import bokeh package\n",
    "from bokeh.plotting import figure, show, output_notebook\n",
    "from bokeh.layouts import column, row\n",
    "\n",
    "# initialize figure\n",
    "sobi_1 = figure(plot_width=600, plot_height=300, toolbar_location=None)\n",
    "sobi_1.line(np.linspace(0, 5, s_sobi.shape[1]), s_sobi[0,:], line_width=2)\n",
    "sobi_2 = figure(plot_width=600, plot_height=300, toolbar_location = None)\n",
    "sobi_2.line(np.linspace(0, 5, s_sobi.shape[1]), s_sobi[1,:], line_width=2)\n",
    "\n",
    "pref_1 = figure(plot_width=600, plot_height=300, toolbar_location = None)\n",
    "pref_1.line(np.linspace(0, 5, s_sobi.shape[1]), ref1, line_width=2)\n",
    "pref_2 = figure(plot_width=600, plot_height=300, toolbar_location = None)\n",
    "pref_2.line(np.linspace(0, 5, s_sobi.shape[1]), ref2, line_width=2)\n",
    "\n",
    "\n",
    "# Définir le style de p\n",
    "sobi_1.xaxis.axis_label = \"Time (s)\"\n",
    "sobi_1.yaxis.axis_label = \"Amp\"\n",
    "sobi_1.title.text = \"Signal S1 Estimé\"\n",
    "sobi_1.title.align = \"center\"\n",
    "\n",
    "sobi_2.xaxis.axis_label = \"Time (s)\"\n",
    "sobi_2.yaxis.axis_label = \"Amp\"\n",
    "sobi_2.title.text = \"Signal S2 Estimé\"\n",
    "sobi_2.title.align = \"center\"\n",
    "\n",
    "pref_1.xaxis.axis_label = \"Time (s)\"\n",
    "pref_1.yaxis.axis_label = \"Amp\"\n",
    "pref_1.title.text = \"Signal S1 de Référence\"\n",
    "pref_1.title.align = \"center\"\n",
    "\n",
    "pref_2.xaxis.axis_label = \"Time (s)\"\n",
    "pref_2.yaxis.axis_label = \"Amp\"\n",
    "pref_2.title.text = \"Signal S2 de Référence\"\n",
    "pref_2.title.align = \"center\"\n",
    "\n",
    "\n",
    "# Afficher le graphique p\n",
    "show(row(column(sobi_1, sobi_2), column(pref_1, pref_2)))"
   ]
  }
 ],
 "metadata": {
  "kernelspec": {
   "display_name": "Python 3",
   "language": "python",
   "name": "python3"
  },
  "language_info": {
   "codemirror_mode": {
    "name": "ipython",
    "version": 3
   },
   "file_extension": ".py",
   "mimetype": "text/x-python",
   "name": "python",
   "nbconvert_exporter": "python",
   "pygments_lexer": "ipython3",
   "version": "3.6.4"
  },
  "latex_envs": {
   "LaTeX_envs_menu_present": true,
   "autocomplete": true,
   "bibliofile": "biblio.bib",
   "cite_by": "apalike",
   "current_citInitial": 1,
   "eqLabelWithNumbers": true,
   "eqNumInitial": 1,
   "hotkeys": {
    "equation": "Ctrl-E",
    "itemize": "Ctrl-I"
   },
   "labels_anchors": false,
   "latex_user_defs": false,
   "report_style_numbering": false,
   "user_envs_cfg": false
  }
 },
 "nbformat": 4,
 "nbformat_minor": 2
}
